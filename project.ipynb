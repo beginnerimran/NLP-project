{
 "cells": [
  {
   "cell_type": "code",
   "execution_count": 1,
   "id": "3add9d91-a99e-473a-b908-5ecb126b5e13",
   "metadata": {},
   "outputs": [],
   "source": [
    "import pandas as pd\n",
    "import numpy as np\n",
    "import string\n",
    "import re\n",
    "import nltk\n",
    "from nltk.corpus import stopwords\n",
    "from nltk.stem import PorterStemmer\n",
    "from sklearn.model_selection import train_test_split\n",
    "from sklearn.feature_extraction.text import CountVectorizer, TfidfVectorizer\n",
    "from sklearn.naive_bayes import MultinomialNB\n",
    "from sklearn.linear_model import LogisticRegression\n",
    "from sklearn.neighbors import KNeighborsClassifier\n",
    "from sklearn.metrics import confusion_matrix, classification_report, accuracy_score"
   ]
  },
  {
   "cell_type": "code",
   "execution_count": 3,
   "id": "2ea41192-fb98-4bd0-82f6-c403be0cf71a",
   "metadata": {},
   "outputs": [
    {
     "name": "stderr",
     "output_type": "stream",
     "text": [
      "[nltk_data] Downloading package stopwords to\n",
      "[nltk_data]     C:\\Users\\noo89\\AppData\\Roaming\\nltk_data...\n",
      "[nltk_data]   Package stopwords is already up-to-date!\n"
     ]
    }
   ],
   "source": [
    "nltk.download('stopwords')\n",
    "df = pd.read_csv(\"disaster_tweets_data(DS).csv\")"
   ]
  },
  {
   "cell_type": "code",
   "execution_count": 4,
   "id": "9e0365fd-5520-4970-93ec-fa0db2114c22",
   "metadata": {},
   "outputs": [],
   "source": [
    "df.dropna(inplace=True)"
   ]
  },
  {
   "cell_type": "code",
   "execution_count": 5,
   "id": "e63fe927-05d3-42b9-b223-ce9bd7ad6fc3",
   "metadata": {},
   "outputs": [],
   "source": [
    "def preprocess(text):\n",
    "    text = text.lower()\n",
    "    text = re.sub(r'http\\S+', '', text)  # Remove URLs\n",
    "    text = re.sub(r'@\\w+', '', text)     # Remove mentions\n",
    "    text = re.sub(r'#\\w+', '', text)     # Remove hashtags\n",
    "    text = re.sub(r'[^a-z\\s]', '', text) # Remove punctuation/numbers\n",
    "    words = text.split()\n",
    "    stop_words = set(stopwords.words('english'))\n",
    "    words = [w for w in words if w not in stop_words]\n",
    "    stemmer = PorterStemmer()\n",
    "    words = [stemmer.stem(w) for w in words]\n",
    "    return ' '.join(words)"
   ]
  },
  {
   "cell_type": "code",
   "execution_count": 6,
   "id": "21f49c03-c409-4216-9ed3-c567419396f3",
   "metadata": {},
   "outputs": [],
   "source": [
    "df['cleaned_tweet'] = df['tweets'].apply(preprocess)"
   ]
  },
  {
   "cell_type": "code",
   "execution_count": 7,
   "id": "d01a5c61-b34d-4af5-bd8c-26a736967cea",
   "metadata": {},
   "outputs": [],
   "source": [
    "cv = CountVectorizer()\n",
    "X = cv.fit_transform(df['cleaned_tweet'])"
   ]
  },
  {
   "cell_type": "code",
   "execution_count": 8,
   "id": "66196d9b-cbc6-4b3b-89f4-401bc6c5055e",
   "metadata": {},
   "outputs": [],
   "source": [
    "y = df['target']\n",
    "X_train, X_test, y_train, y_test = train_test_split(X, y, test_size=0.2, random_state=42)"
   ]
  },
  {
   "cell_type": "code",
   "execution_count": 9,
   "id": "e7f99c7b-0dcd-4bf9-b270-82c0b5b19989",
   "metadata": {},
   "outputs": [
    {
     "name": "stdout",
     "output_type": "stream",
     "text": [
      "------ Multinomial Naive Bayes ------\n",
      "Accuracy: 0.8030203545633617\n",
      "Confusion Matrix:\n",
      " [[746 128]\n",
      " [172 477]]\n",
      "Classification Report:\n",
      "               precision    recall  f1-score   support\n",
      "\n",
      "           0       0.81      0.85      0.83       874\n",
      "           1       0.79      0.73      0.76       649\n",
      "\n",
      "    accuracy                           0.80      1523\n",
      "   macro avg       0.80      0.79      0.80      1523\n",
      "weighted avg       0.80      0.80      0.80      1523\n",
      "\n",
      "------ Logistic Regression ------\n",
      "Accuracy: 0.7820091923834537\n",
      "Confusion Matrix:\n",
      " [[732 142]\n",
      " [190 459]]\n",
      "Classification Report:\n",
      "               precision    recall  f1-score   support\n",
      "\n",
      "           0       0.79      0.84      0.82       874\n",
      "           1       0.76      0.71      0.73       649\n",
      "\n",
      "    accuracy                           0.78      1523\n",
      "   macro avg       0.78      0.77      0.77      1523\n",
      "weighted avg       0.78      0.78      0.78      1523\n",
      "\n",
      "------ KNN Classifier ------\n",
      "Accuracy: 0.587655942219304\n",
      "Confusion Matrix:\n",
      " [[389 485]\n",
      " [143 506]]\n",
      "Classification Report:\n",
      "               precision    recall  f1-score   support\n",
      "\n",
      "           0       0.73      0.45      0.55       874\n",
      "           1       0.51      0.78      0.62       649\n",
      "\n",
      "    accuracy                           0.59      1523\n",
      "   macro avg       0.62      0.61      0.59      1523\n",
      "weighted avg       0.64      0.59      0.58      1523\n",
      "\n"
     ]
    }
   ],
   "source": [
    "def train_and_evaluate(model, model_name):\n",
    "    model.fit(X_train, y_train)\n",
    "    y_pred = model.predict(X_test)\n",
    "    print(f\"------ {model_name} ------\")\n",
    "    print(\"Accuracy:\", accuracy_score(y_test, y_pred))\n",
    "    print(\"Confusion Matrix:\\n\", confusion_matrix(y_test, y_pred))\n",
    "    print(\"Classification Report:\\n\", classification_report(y_test, y_pred))\n",
    "\n",
    "train_and_evaluate(MultinomialNB(), \"Multinomial Naive Bayes\")\n",
    "train_and_evaluate(LogisticRegression(max_iter=1000), \"Logistic Regression\")\n",
    "train_and_evaluate(KNeighborsClassifier(), \"KNN Classifier\")"
   ]
  },
  {
   "cell_type": "code",
   "execution_count": null,
   "id": "f85ed659-4d08-42a9-a3ba-1428296ebbe0",
   "metadata": {},
   "outputs": [],
   "source": []
  }
 ],
 "metadata": {
  "kernelspec": {
   "display_name": "Python [conda env:base] *",
   "language": "python",
   "name": "conda-base-py"
  },
  "language_info": {
   "codemirror_mode": {
    "name": "ipython",
    "version": 3
   },
   "file_extension": ".py",
   "mimetype": "text/x-python",
   "name": "python",
   "nbconvert_exporter": "python",
   "pygments_lexer": "ipython3",
   "version": "3.13.5"
  }
 },
 "nbformat": 4,
 "nbformat_minor": 5
}
